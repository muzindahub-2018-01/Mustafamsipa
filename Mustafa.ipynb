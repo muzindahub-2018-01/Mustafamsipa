{
 "cells": [
  {
   "cell_type": "code",
   "execution_count": null,
   "metadata": {},
   "outputs": [],
   "source": [
    "combination = 1234"
   ]
  },
  {
   "cell_type": "code",
   "execution_count": null,
   "metadata": {},
   "outputs": [],
   "source": [
    "def SetCombination():\n",
    "    \"\"\"\n",
    "    Block of code to verify old password\n",
    "    \"\"\"\n",
    "    matched_password = 0\n",
    "    while matched_password == 0:\n",
    "        verification = input(\"Enter Old 4 figure combination \\n The default is 1234:\")\n",
    "        while verification !=  combination:\n",
    "            print(\"Error the code did not match\")\n",
    "        matched_password = 1\n",
    "\n",
    "\n",
    "    \"\"\"\n",
    "    Block of code to change password\n",
    "    \"\"\"    \n",
    "    changed_password = 0\n",
    "    while changed_password == 0:\n",
    "        combination = input(\"Enter Old 4 figure combination \\n The default is 1234:\")\n",
    "        if len(combination) > 4:\n",
    "            print (\"Error! you enter more than 4 characters.\")\n",
    "        if len(combination) < 4:\n",
    "            print (\"Error! you entered less than 4 characters.\")\n",
    "        if len(combination) == 4:\n",
    "            changed_password = 1"
   ]
  },
  {
   "cell_type": "code",
   "execution_count": null,
   "metadata": {},
   "outputs": [],
   "source": [
    "def EnterPassword():\n",
    "    \n",
    "    counter = 0\n",
    "    authenticated = 0\n",
    "    \n",
    "    while authenticated == 0:\n",
    "        Authentication = input(\"Enter Password:\")\n",
    "        if Authentication != combination:\n",
    "            print(\"The code you entered did not match! \\n\")        \n",
    "            print(\"You are left with \", 5 - counter,\" trials\")\n",
    "            counter += 1\n",
    "        else:\n",
    "            print(\"Login was successful\")\n",
    "            authenticated = 1\n",
    "            \n",
    "    if counter == 5:\n",
    "        print (\"You exhausted all trials\")\n",
    "        sys.exit() # leaves the application\n",
    "    "
   ]
  },
  {
   "cell_type": "code",
   "execution_count": null,
   "metadata": {},
   "outputs": [],
   "source": [
    "print(\"Welcome, what do you wish to do? \\n\")\n",
    "\n",
    "valid_choice_entered = \"No\"\n",
    "while valid_choice_entered == \"No\":\n",
    "    choice = input(\"What do you want to do \\n    1: Enter password \\n    2: Change password combination \\n\")\n",
    "    if choice == \"1\":\n",
    "        EnterPassword()\n",
    "        valid_choice_entered = \"yes\"\n",
    "    if choice == \"2\":\n",
    "        SetCombination()\n",
    "        valid_choice_entered = \"yes\"\n",
    "    if choice != \"1\" or \"2\":\n",
    "        print (\"Please enter a valid choice either 1 or 2\")\n",
    "        \n"
   ]
  },
  {
   "cell_type": "code",
   "execution_count": null,
   "metadata": {},
   "outputs": [],
   "source": []
  }
 ],
 "metadata": {
  "kernelspec": {
   "display_name": "Python 3",
   "language": "python",
   "name": "python3"
  },
  "language_info": {
   "codemirror_mode": {
    "name": "ipython",
    "version": 3
   },
   "file_extension": ".py",
   "mimetype": "text/x-python",
   "name": "python",
   "nbconvert_exporter": "python",
   "pygments_lexer": "ipython3",
   "version": "3.5.4"
  }
 },
 "nbformat": 4,
 "nbformat_minor": 2
}
